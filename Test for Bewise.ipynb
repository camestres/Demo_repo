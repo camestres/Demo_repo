{
 "cells": [
  {
   "cell_type": "code",
   "execution_count": 1,
   "id": "faeb3788",
   "metadata": {},
   "outputs": [],
   "source": [
    "import pandas as pd \n",
    "import nltk\n",
    "import re\n",
    "\n",
    "from nltk.tokenize import WhitespaceTokenizer"
   ]
  },
  {
   "cell_type": "code",
   "execution_count": 2,
   "id": "6a535300",
   "metadata": {},
   "outputs": [],
   "source": [
    "df = pd.read_csv('D:\\Обучение\\Data Science\\Вакансии\\Bewise\\Тестовое задание\\Test_data.csv')"
   ]
  },
  {
   "cell_type": "code",
   "execution_count": 3,
   "id": "c9d88688",
   "metadata": {},
   "outputs": [],
   "source": [
    "df['text'] = df['text'].str.lower()"
   ]
  },
  {
   "cell_type": "code",
   "execution_count": 4,
   "id": "400263ff",
   "metadata": {},
   "outputs": [],
   "source": [
    "tokenizer = WhitespaceTokenizer()"
   ]
  },
  {
   "cell_type": "code",
   "execution_count": 5,
   "id": "7b1e3451",
   "metadata": {},
   "outputs": [],
   "source": [
    "# Токенизируем текст в отдельном столбце \"tokens\"\n",
    "df['tokens'] = df['text'].apply(tokenizer.tokenize)"
   ]
  },
  {
   "cell_type": "code",
   "execution_count": 6,
   "id": "60e04d0f",
   "metadata": {},
   "outputs": [],
   "source": [
    "#Определим списки ключевых слов для классификации фраз\n",
    "greeting_phrases = ['здравствуйте', 'день','добрый']\n",
    "introducing_phrases = ['зовут']\n",
    "farewell_phrases = ['свидания', 'хорошего', 'доброго']"
    "company_phrases = ['зовут', 'компания']"
   ]
  },
  {
   "cell_type": "code",
   "execution_count": 10,
   "id": "9d71ecd2",
   "metadata": {},
   "outputs": [],
   "source": [
    "def classification(tokens):\n",
    "    if len(set(greeting_phrases).intersection(set(tokens))) >= 1:\n",
    "        return 'Greeting=True'\n",
    "    if len(set(introducing_phrases).intersection(set(tokens))) >= 1:\n",
    "        return 'Introducing=True'\n",
    "    if len(set(farewell_phrases).intersection(set(tokens))) >= 1:\n",
    "        return 'Farewell=True'\n",
    "    else:\n",
    "        return \"\""
   ]
  },
  {
   "cell_type": "code",
   "execution_count": 8,
   "id": "0695f4a7",
   "metadata": {},
   "outputs": [],
   "source": [
    "def company(tokens):\n",
    "    if len(set(company_phrases).intersection(set(tokens))) >= 2:\n",
    "        return tokens[tokens.index('компания')+1]\n",
    "    else:\n",
    "        return \"\""
   ]
  },
  {
   "cell_type": "code",
   "execution_count": 11,
   "id": "34b7deb3",
   "metadata": {},
   "outputs": [],
   "source": [
    "# добавим столбец \"insigth\", где зафиксируем наши наблюдения\n",
    "df['insight'] = df['tokens'].apply(lambda tokens: classification(tokens))"
   ]
  },
  {
   "cell_type": "code",
   "execution_count": 12,
   "id": "a417b8fc",
   "metadata": {},
   "outputs": [],
   "source": [
    "# добавим столбец \"company_name\", которым отразим, что здесь указано наименование компании\n",
    "df['company_name'] = df['tokens'].apply(lambda tokens: company(tokens))"
   ]
  },
  {
   "cell_type": "code",
   "execution_count": 13,
   "id": "d5fb5119",
   "metadata": {},
   "outputs": [
    {
     "data": {
      "text/html": [
       "<div>\n",
       "<style scoped>\n",
       "    .dataframe tbody tr th:only-of-type {\n",
       "        vertical-align: middle;\n",
       "    }\n",
       "\n",
       "    .dataframe tbody tr th {\n",
       "        vertical-align: top;\n",
       "    }\n",
       "\n",
       "    .dataframe thead th {\n",
       "        text-align: right;\n",
       "    }\n",
       "</style>\n",
       "<table border=\"1\" class=\"dataframe\">\n",
       "  <thead>\n",
       "    <tr style=\"text-align: right;\">\n",
       "      <th></th>\n",
       "      <th>dlg_id</th>\n",
       "      <th>line_n</th>\n",
       "      <th>role</th>\n",
       "      <th>text</th>\n",
       "      <th>tokens</th>\n",
       "      <th>insight</th>\n",
       "      <th>company_name</th>\n",
       "    </tr>\n",
       "  </thead>\n",
       "  <tbody>\n",
       "    <tr>\n",
       "      <th>0</th>\n",
       "      <td>0</td>\n",
       "      <td>0</td>\n",
       "      <td>manager</td>\n",
       "      <td>алло</td>\n",
       "      <td>[алло]</td>\n",
       "      <td></td>\n",
       "      <td></td>\n",
       "    </tr>\n",
       "    <tr>\n",
       "      <th>1</th>\n",
       "      <td>0</td>\n",
       "      <td>1</td>\n",
       "      <td>client</td>\n",
       "      <td>алло здравствуйте</td>\n",
       "      <td>[алло, здравствуйте]</td>\n",
       "      <td>Greeting=True</td>\n",
       "      <td></td>\n",
       "    </tr>\n",
       "    <tr>\n",
       "      <th>2</th>\n",
       "      <td>0</td>\n",
       "      <td>2</td>\n",
       "      <td>manager</td>\n",
       "      <td>добрый день</td>\n",
       "      <td>[добрый, день]</td>\n",
       "      <td>Greeting=True</td>\n",
       "      <td></td>\n",
       "    </tr>\n",
       "    <tr>\n",
       "      <th>3</th>\n",
       "      <td>0</td>\n",
       "      <td>3</td>\n",
       "      <td>client</td>\n",
       "      <td>меня зовут ангелина компания диджитал бизнес з...</td>\n",
       "      <td>[меня, зовут, ангелина, компания, диджитал, би...</td>\n",
       "      <td>Introducing=True</td>\n",
       "      <td>Company Name</td>\n",
       "    </tr>\n",
       "    <tr>\n",
       "      <th>4</th>\n",
       "      <td>0</td>\n",
       "      <td>4</td>\n",
       "      <td>manager</td>\n",
       "      <td>ага</td>\n",
       "      <td>[ага]</td>\n",
       "      <td></td>\n",
       "      <td></td>\n",
       "    </tr>\n",
       "  </tbody>\n",
       "</table>\n",
       "</div>"
      ],
      "text/plain": [
       "   dlg_id  line_n     role                                               text  \\\n",
       "0       0       0  manager                                               алло   \n",
       "1       0       1   client                                  алло здравствуйте   \n",
       "2       0       2  manager                                        добрый день   \n",
       "3       0       3   client  меня зовут ангелина компания диджитал бизнес з...   \n",
       "4       0       4  manager                                                ага   \n",
       "\n",
       "                                              tokens           insight  \\\n",
       "0                                             [алло]                     \n",
       "1                               [алло, здравствуйте]     Greeting=True   \n",
       "2                                     [добрый, день]     Greeting=True   \n",
       "3  [меня, зовут, ангелина, компания, диджитал, би...  Introducing=True   \n",
       "4                                              [ага]                     \n",
       "\n",
       "   company_name  \n",
       "0                \n",
       "1                \n",
       "2                \n",
       "3  Company Name  \n",
       "4                "
      ]
     },
     "execution_count": 13,
     "metadata": {},
     "output_type": "execute_result"
    }
   ],
   "source": [
    "df.head()"
   ]
  },
  {
   "cell_type": "code",
   "execution_count": null,
   "id": "37a8fcab",
   "metadata": {},
   "outputs": [],
   "source": [
    "df.to_csv('insight_data.csv')"
   ]
  }
 ],
 "metadata": {
  "kernelspec": {
   "display_name": "Python 3 (ipykernel)",
   "language": "python",
   "name": "python3"
  },
  "language_info": {
   "codemirror_mode": {
    "name": "ipython",
    "version": 3
   },
   "file_extension": ".py",
   "mimetype": "text/x-python",
   "name": "python",
   "nbconvert_exporter": "python",
   "pygments_lexer": "ipython3",
   "version": "3.9.7"
  }
 },
 "nbformat": 4,
 "nbformat_minor": 5
}
