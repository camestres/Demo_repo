{
 "cells": [
  {
   "cell_type": "code",
   "execution_count": 3,
   "id": "49c7d585",
   "metadata": {},
   "outputs": [
    {
     "name": "stderr",
     "output_type": "stream",
     "text": [
      "Enabling notebook extension jupyter-js-widgets/extension...\n",
      "      - Validating: ok\n"
     ]
    },
    {
     "data": {
      "text/html": [
       "<div>\n",
       "<style scoped>\n",
       "    .dataframe tbody tr th:only-of-type {\n",
       "        vertical-align: middle;\n",
       "    }\n",
       "\n",
       "    .dataframe tbody tr th {\n",
       "        vertical-align: top;\n",
       "    }\n",
       "\n",
       "    .dataframe thead th {\n",
       "        text-align: right;\n",
       "    }\n",
       "</style>\n",
       "<table border=\"1\" class=\"dataframe\">\n",
       "  <thead>\n",
       "    <tr style=\"text-align: right;\">\n",
       "      <th></th>\n",
       "      <th>ACTION</th>\n",
       "      <th>RESOURCE</th>\n",
       "      <th>MGR_ID</th>\n",
       "      <th>ROLE_ROLLUP_1</th>\n",
       "      <th>ROLE_ROLLUP_2</th>\n",
       "      <th>ROLE_DEPTNAME</th>\n",
       "      <th>ROLE_TITLE</th>\n",
       "      <th>ROLE_FAMILY_DESC</th>\n",
       "      <th>ROLE_FAMILY</th>\n",
       "      <th>ROLE_CODE</th>\n",
       "    </tr>\n",
       "  </thead>\n",
       "  <tbody>\n",
       "    <tr>\n",
       "      <th>0</th>\n",
       "      <td>1</td>\n",
       "      <td>39353</td>\n",
       "      <td>85475</td>\n",
       "      <td>117961</td>\n",
       "      <td>118300</td>\n",
       "      <td>123472</td>\n",
       "      <td>117905</td>\n",
       "      <td>117906</td>\n",
       "      <td>290919</td>\n",
       "      <td>117908</td>\n",
       "    </tr>\n",
       "    <tr>\n",
       "      <th>1</th>\n",
       "      <td>1</td>\n",
       "      <td>17183</td>\n",
       "      <td>1540</td>\n",
       "      <td>117961</td>\n",
       "      <td>118343</td>\n",
       "      <td>123125</td>\n",
       "      <td>118536</td>\n",
       "      <td>118536</td>\n",
       "      <td>308574</td>\n",
       "      <td>118539</td>\n",
       "    </tr>\n",
       "    <tr>\n",
       "      <th>2</th>\n",
       "      <td>1</td>\n",
       "      <td>36724</td>\n",
       "      <td>14457</td>\n",
       "      <td>118219</td>\n",
       "      <td>118220</td>\n",
       "      <td>117884</td>\n",
       "      <td>117879</td>\n",
       "      <td>267952</td>\n",
       "      <td>19721</td>\n",
       "      <td>117880</td>\n",
       "    </tr>\n",
       "    <tr>\n",
       "      <th>3</th>\n",
       "      <td>1</td>\n",
       "      <td>36135</td>\n",
       "      <td>5396</td>\n",
       "      <td>117961</td>\n",
       "      <td>118343</td>\n",
       "      <td>119993</td>\n",
       "      <td>118321</td>\n",
       "      <td>240983</td>\n",
       "      <td>290919</td>\n",
       "      <td>118322</td>\n",
       "    </tr>\n",
       "    <tr>\n",
       "      <th>4</th>\n",
       "      <td>1</td>\n",
       "      <td>42680</td>\n",
       "      <td>5905</td>\n",
       "      <td>117929</td>\n",
       "      <td>117930</td>\n",
       "      <td>119569</td>\n",
       "      <td>119323</td>\n",
       "      <td>123932</td>\n",
       "      <td>19793</td>\n",
       "      <td>119325</td>\n",
       "    </tr>\n",
       "  </tbody>\n",
       "</table>\n",
       "</div>"
      ],
      "text/plain": [
       "   ACTION  RESOURCE  MGR_ID  ROLE_ROLLUP_1  ROLE_ROLLUP_2  ROLE_DEPTNAME  \\\n",
       "0       1     39353   85475         117961         118300         123472   \n",
       "1       1     17183    1540         117961         118343         123125   \n",
       "2       1     36724   14457         118219         118220         117884   \n",
       "3       1     36135    5396         117961         118343         119993   \n",
       "4       1     42680    5905         117929         117930         119569   \n",
       "\n",
       "   ROLE_TITLE  ROLE_FAMILY_DESC  ROLE_FAMILY  ROLE_CODE  \n",
       "0      117905            117906       290919     117908  \n",
       "1      118536            118536       308574     118539  \n",
       "2      117879            267952        19721     117880  \n",
       "3      118321            240983       290919     118322  \n",
       "4      119323            123932        19793     119325  "
      ]
     },
     "execution_count": 3,
     "metadata": {},
     "output_type": "execute_result"
    }
   ],
   "source": [
    "from catboost.datasets import amazon\n",
    "import numpy as np\n",
    "import pandas as pd\n",
    "from matplotlib import pyplot as plt\n",
    "%matplotlib inline\n",
    "\n",
    "import os\n",
    "np.set_printoptions(precision=4)\n",
    "!jupyter nbextension enable --py widgetsnbextension\n",
    "\n",
    "train_df, test_df = amazon()\n",
    "\n",
    "train_df.head()"
   ]
  },
  {
   "cell_type": "code",
   "execution_count": 4,
   "id": "7f3959be",
   "metadata": {},
   "outputs": [],
   "source": [
    "y = train_df.ACTION\n",
    "X = train_df.drop(\"ACTION\", axis=1)"
   ]
  },
  {
   "cell_type": "code",
   "execution_count": 5,
   "id": "8847e096",
   "metadata": {},
   "outputs": [
    {
     "name": "stdout",
     "output_type": "stream",
     "text": [
      "[0, 1, 2, 3, 4, 5, 6, 7, 8]\n"
     ]
    }
   ],
   "source": [
    "cat_features = list(range(0, X.shape[1]))\n",
    "print(cat_features)"
   ]
  },
  {
   "cell_type": "code",
   "execution_count": 6,
   "id": "22179994",
   "metadata": {},
   "outputs": [
    {
     "data": {
      "text/plain": [
       "(32769, 9)"
      ]
     },
     "execution_count": 6,
     "metadata": {},
     "output_type": "execute_result"
    }
   ],
   "source": [
    "X.shape"
   ]
  },
  {
   "cell_type": "code",
   "execution_count": 7,
   "id": "88fa2b29",
   "metadata": {},
   "outputs": [
    {
     "name": "stdout",
     "output_type": "stream",
     "text": [
      "Learning rate set to 0.377604\n",
      "0:\tlearn: 0.4528598\ttotal: 504ms\tremaining: 49.9s\n",
      "10:\tlearn: 0.1744186\ttotal: 1.53s\tremaining: 12.4s\n",
      "20:\tlearn: 0.1676119\ttotal: 2.67s\tremaining: 10s\n",
      "30:\tlearn: 0.1652446\ttotal: 3.85s\tremaining: 8.56s\n",
      "40:\tlearn: 0.1633644\ttotal: 5.01s\tremaining: 7.21s\n",
      "50:\tlearn: 0.1621892\ttotal: 6.2s\tremaining: 5.95s\n",
      "60:\tlearn: 0.1609164\ttotal: 7.34s\tremaining: 4.69s\n",
      "70:\tlearn: 0.1594572\ttotal: 8.52s\tremaining: 3.48s\n",
      "80:\tlearn: 0.1585876\ttotal: 9.68s\tremaining: 2.27s\n",
      "90:\tlearn: 0.1573593\ttotal: 10.8s\tremaining: 1.07s\n",
      "99:\tlearn: 0.1566977\ttotal: 11.9s\tremaining: 0us\n"
     ]
    },
    {
     "data": {
      "text/plain": [
       "<catboost.core.CatBoostClassifier at 0x281ba4820d0>"
      ]
     },
     "execution_count": 7,
     "metadata": {},
     "output_type": "execute_result"
    }
   ],
   "source": [
    "from catboost import CatBoostClassifier\n",
    "model = CatBoostClassifier(iterations=100)\n",
    "model.fit(X, y, cat_features=cat_features, verbose=10)"
   ]
  },
  {
   "cell_type": "code",
   "execution_count": 8,
   "id": "aa7d83b4",
   "metadata": {},
   "outputs": [
    {
     "data": {
      "text/plain": [
       "array([[0.0098, 0.9902],\n",
       "       [0.0101, 0.9899],\n",
       "       [0.0579, 0.9421],\n",
       "       ...,\n",
       "       [0.0118, 0.9882],\n",
       "       [0.1891, 0.8109],\n",
       "       [0.0235, 0.9765]])"
      ]
     },
     "execution_count": 8,
     "metadata": {},
     "output_type": "execute_result"
    }
   ],
   "source": [
    "model.predict_proba(X)"
   ]
  },
  {
   "cell_type": "code",
   "execution_count": 9,
   "id": "bd4d1192",
   "metadata": {},
   "outputs": [],
   "source": [
    "from catboost import Pool\n",
    "pool = Pool(data=X, label=y, cat_features=cat_features)"
   ]
  },
  {
   "cell_type": "code",
   "execution_count": 10,
   "id": "bde1e59e",
   "metadata": {},
   "outputs": [],
   "source": [
    "from sklearn.model_selection import train_test_split\n",
    "\n",
    "data = train_test_split(X, y, test_size=0.2, random_state=0)\n",
    "X_train, X_validation, y_train, y_validation = data\n",
    "\n",
    "train_pool = Pool(\n",
    "    data=X_train, \n",
    "    label=y_train, \n",
    "    cat_features=cat_features\n",
    ")\n",
    "\n",
    "validation_pool = Pool(\n",
    "    data=X_validation, \n",
    "    label=y_validation, \n",
    "    cat_features=cat_features\n",
    ")"
   ]
  },
  {
   "cell_type": "code",
   "execution_count": 11,
   "id": "24113cf5",
   "metadata": {},
   "outputs": [
    {
     "data": {
      "text/plain": [
       "<catboost.core.CatBoostClassifier at 0x281ba49b880>"
      ]
     },
     "execution_count": 11,
     "metadata": {},
     "output_type": "execute_result"
    }
   ],
   "source": [
    "model = CatBoostClassifier(\n",
    "    iterations=5,\n",
    "    learning_rate=0.1\n",
    ")\n",
    "model.fit(train_pool, eval_set = validation_pool, verbose=False)"
   ]
  },
  {
   "cell_type": "code",
   "execution_count": 12,
   "id": "bffef62c",
   "metadata": {},
   "outputs": [
    {
     "name": "stdout",
     "output_type": "stream",
     "text": [
      "Learning rate set to 0.441257\n",
      "0:\tlearn: 0.4226231\ttest: 0.4217069\tbest: 0.4217069 (0)\ttotal: 108ms\tremaining: 1.51s\n",
      "1:\tlearn: 0.3157972\ttest: 0.3136469\tbest: 0.3136469 (1)\ttotal: 243ms\tremaining: 1.58s\n",
      "2:\tlearn: 0.2631196\ttest: 0.2603395\tbest: 0.2603395 (2)\ttotal: 359ms\tremaining: 1.44s\n",
      "3:\tlearn: 0.2334650\ttest: 0.2294580\tbest: 0.2294580 (3)\ttotal: 470ms\tremaining: 1.29s\n",
      "4:\tlearn: 0.2077060\ttest: 0.2017327\tbest: 0.2017327 (4)\ttotal: 586ms\tremaining: 1.17s\n",
      "5:\tlearn: 0.1961364\ttest: 0.1883112\tbest: 0.1883112 (5)\ttotal: 705ms\tremaining: 1.06s\n",
      "6:\tlearn: 0.1879266\ttest: 0.1794018\tbest: 0.1794018 (6)\ttotal: 815ms\tremaining: 931ms\n",
      "7:\tlearn: 0.1841218\ttest: 0.1743149\tbest: 0.1743149 (7)\ttotal: 885ms\tremaining: 775ms\n",
      "8:\tlearn: 0.1814626\ttest: 0.1698731\tbest: 0.1698731 (8)\ttotal: 998ms\tremaining: 665ms\n",
      "9:\tlearn: 0.1785403\ttest: 0.1650335\tbest: 0.1650335 (9)\ttotal: 1.1s\tremaining: 550ms\n",
      "10:\tlearn: 0.1771678\ttest: 0.1634002\tbest: 0.1634002 (10)\ttotal: 1.21s\tremaining: 439ms\n",
      "11:\tlearn: 0.1762101\ttest: 0.1628239\tbest: 0.1628239 (11)\ttotal: 1.32s\tremaining: 329ms\n",
      "12:\tlearn: 0.1758255\ttest: 0.1624307\tbest: 0.1624307 (12)\ttotal: 1.43s\tremaining: 220ms\n",
      "13:\tlearn: 0.1750837\ttest: 0.1622120\tbest: 0.1622120 (13)\ttotal: 1.54s\tremaining: 110ms\n",
      "14:\tlearn: 0.1745736\ttest: 0.1616416\tbest: 0.1616416 (14)\ttotal: 1.66s\tremaining: 0us\n",
      "\n",
      "bestTest = 0.1616416212\n",
      "bestIteration = 14\n",
      "\n"
     ]
    },
    {
     "data": {
      "text/plain": [
       "<catboost.core.CatBoostClassifier at 0x281b8cb7040>"
      ]
     },
     "execution_count": 12,
     "metadata": {},
     "output_type": "execute_result"
    }
   ],
   "source": [
    "model = CatBoostClassifier(\n",
    "    iterations=15\n",
    ")\n",
    "model.fit(train_pool, eval_set = validation_pool)"
   ]
  },
  {
   "cell_type": "code",
   "execution_count": 13,
   "id": "87f70edc",
   "metadata": {},
   "outputs": [
    {
     "data": {
      "application/vnd.jupyter.widget-view+json": {
       "model_id": "756105f3222c4825a8a8ab87aa70482a",
       "version_major": 2,
       "version_minor": 0
      },
      "text/plain": [
       "MetricVisualizer(layout=Layout(align_self='stretch', height='500px'))"
      ]
     },
     "metadata": {},
     "output_type": "display_data"
    }
   ],
   "source": [
    "model = CatBoostClassifier(\n",
    "    iterations=50,\n",
    "    learning_rate=0.5,\n",
    "    custom_loss=['AUC', 'Accuracy']\n",
    ")\n",
    "\n",
    "model.fit(\n",
    "    train_pool, \n",
    "    eval_set = validation_pool, \n",
    "    verbose=False,\n",
    "    plot=True\n",
    ");"
   ]
  },
  {
   "cell_type": "code",
   "execution_count": 14,
   "id": "d7704c0b",
   "metadata": {},
   "outputs": [
    {
     "name": "stdout",
     "output_type": "stream",
     "text": [
      "0:\tlearn: 0.3264513\ttest: 0.3248170\tbest: 0.3248170 (0)\ttotal: 132ms\tremaining: 13s\n",
      "20:\tlearn: 0.1688825\ttest: 0.1574182\tbest: 0.1573949 (16)\ttotal: 2.22s\tremaining: 8.36s\n",
      "40:\tlearn: 0.1632884\ttest: 0.1582531\tbest: 0.1571533 (23)\ttotal: 4.38s\tremaining: 6.31s\n",
      "60:\tlearn: 0.1584388\ttest: 0.1573279\tbest: 0.1569712 (52)\ttotal: 6.5s\tremaining: 4.16s\n",
      "80:\tlearn: 0.1555790\ttest: 0.1582746\tbest: 0.1569712 (52)\ttotal: 8.68s\tremaining: 2.04s\n",
      "99:\tlearn: 0.1519826\ttest: 0.1590949\tbest: 0.1569712 (52)\ttotal: 10.7s\tremaining: 0us\n",
      "\n",
      "bestTest = 0.1569712214\n",
      "bestIteration = 52\n",
      "\n",
      "Shrink model to first 53 iterations.\n",
      "0:\tlearn: 0.6853769\ttest: 0.6853610\tbest: 0.6853610 (0)\ttotal: 147ms\tremaining: 14.6s\n",
      "20:\tlearn: 0.5575578\ttest: 0.5568257\tbest: 0.5568257 (20)\ttotal: 1.75s\tremaining: 6.58s\n",
      "40:\tlearn: 0.4678112\ttest: 0.4663769\tbest: 0.4663769 (40)\ttotal: 3.4s\tremaining: 4.89s\n",
      "60:\tlearn: 0.4029225\ttest: 0.4011544\tbest: 0.4011544 (60)\ttotal: 4.83s\tremaining: 3.09s\n",
      "80:\tlearn: 0.3551621\ttest: 0.3530433\tbest: 0.3530433 (80)\ttotal: 6.32s\tremaining: 1.48s\n",
      "99:\tlearn: 0.3211782\ttest: 0.3188600\tbest: 0.3188600 (99)\ttotal: 7.37s\tremaining: 0us\n",
      "\n",
      "bestTest = 0.3188600187\n",
      "bestIteration = 99\n",
      "\n"
     ]
    },
    {
     "data": {
      "text/plain": [
       "<catboost.core.CatBoostClassifier at 0x281ba7093a0>"
      ]
     },
     "execution_count": 14,
     "metadata": {},
     "output_type": "execute_result"
    }
   ],
   "source": [
    "model1 = CatBoostClassifier(\n",
    "    learning_rate=0.7,\n",
    "    iterations=100,\n",
    "    train_dir='learning_rate_0.7'\n",
    ")\n",
    "\n",
    "model2 = CatBoostClassifier(\n",
    "    learning_rate=0.01,\n",
    "    iterations=100,\n",
    "    train_dir='learning_rate_0.01'\n",
    ")\n",
    "\n",
    "model1.fit(train_pool, eval_set=validation_pool, verbose=20)\n",
    "model2.fit(train_pool, eval_set=validation_pool, verbose=20)"
   ]
  },
  {
   "cell_type": "code",
   "execution_count": 15,
   "id": "9fbe7831",
   "metadata": {},
   "outputs": [
    {
     "data": {
      "application/vnd.jupyter.widget-view+json": {
       "model_id": "31a49a1dedd048f2a227c87d9248011e",
       "version_major": 2,
       "version_minor": 0
      },
      "text/plain": [
       "MetricVisualizer(layout=Layout(align_self='stretch', height='500px'))"
      ]
     },
     "metadata": {},
     "output_type": "display_data"
    }
   ],
   "source": [
    "from catboost import MetricVisualizer\n",
    "MetricVisualizer(['learning_rate_0.7', 'learning_rate_0.01']).start()"
   ]
  },
  {
   "cell_type": "code",
   "execution_count": 16,
   "id": "780f2b15",
   "metadata": {},
   "outputs": [
    {
     "data": {
      "application/vnd.jupyter.widget-view+json": {
       "model_id": "958c4c25ae914cd6b3340f4076259059",
       "version_major": 2,
       "version_minor": 0
      },
      "text/plain": [
       "MetricVisualizer(layout=Layout(align_self='stretch', height='500px'))"
      ]
     },
     "metadata": {},
     "output_type": "display_data"
    },
    {
     "name": "stdout",
     "output_type": "stream",
     "text": [
      "Training on fold [0/5]\n",
      "\n",
      "bestTest = 0.1631730144\n",
      "bestIteration = 21\n",
      "\n",
      "Training on fold [1/5]\n",
      "\n",
      "bestTest = 0.1608272543\n",
      "bestIteration = 77\n",
      "\n",
      "Training on fold [2/5]\n",
      "\n",
      "bestTest = 0.1694535356\n",
      "bestIteration = 12\n",
      "\n",
      "Training on fold [3/5]\n",
      "\n",
      "bestTest = 0.1559891322\n",
      "bestIteration = 41\n",
      "\n",
      "Training on fold [4/5]\n",
      "\n",
      "bestTest = 0.1644437541\n",
      "bestIteration = 30\n",
      "\n"
     ]
    }
   ],
   "source": [
    "# Cross-validation\n",
    "from catboost import cv\n",
    "\n",
    "params = {\n",
    "    'loss_function': 'Logloss',\n",
    "    'iterations': 80,\n",
    "    'custom_loss': 'AUC',\n",
    "    'learning_rate': 0.5\n",
    "}\n",
    "\n",
    "cv_data = cv(\n",
    "    params = params,\n",
    "    pool = train_pool,\n",
    "    fold_count = 5,\n",
    "    shuffle = True,\n",
    "    partition_random_seed = 0,\n",
    "    plot = True,\n",
    "    verbose = False    \n",
    ")"
   ]
  },
  {
   "cell_type": "code",
   "execution_count": 17,
   "id": "6c739d8b",
   "metadata": {},
   "outputs": [
    {
     "data": {
      "text/html": [
       "<div>\n",
       "<style scoped>\n",
       "    .dataframe tbody tr th:only-of-type {\n",
       "        vertical-align: middle;\n",
       "    }\n",
       "\n",
       "    .dataframe tbody tr th {\n",
       "        vertical-align: top;\n",
       "    }\n",
       "\n",
       "    .dataframe thead th {\n",
       "        text-align: right;\n",
       "    }\n",
       "</style>\n",
       "<table border=\"1\" class=\"dataframe\">\n",
       "  <thead>\n",
       "    <tr style=\"text-align: right;\">\n",
       "      <th></th>\n",
       "      <th>iterations</th>\n",
       "      <th>test-Logloss-mean</th>\n",
       "      <th>test-Logloss-std</th>\n",
       "      <th>train-Logloss-mean</th>\n",
       "      <th>train-Logloss-std</th>\n",
       "      <th>test-AUC-mean</th>\n",
       "      <th>test-AUC-std</th>\n",
       "    </tr>\n",
       "  </thead>\n",
       "  <tbody>\n",
       "    <tr>\n",
       "      <th>0</th>\n",
       "      <td>0</td>\n",
       "      <td>0.305831</td>\n",
       "      <td>0.000020</td>\n",
       "      <td>0.305810</td>\n",
       "      <td>0.000014</td>\n",
       "      <td>0.496175</td>\n",
       "      <td>0.014042</td>\n",
       "    </tr>\n",
       "    <tr>\n",
       "      <th>1</th>\n",
       "      <td>1</td>\n",
       "      <td>0.234755</td>\n",
       "      <td>0.001020</td>\n",
       "      <td>0.235427</td>\n",
       "      <td>0.000274</td>\n",
       "      <td>0.569789</td>\n",
       "      <td>0.030202</td>\n",
       "    </tr>\n",
       "    <tr>\n",
       "      <th>2</th>\n",
       "      <td>2</td>\n",
       "      <td>0.196036</td>\n",
       "      <td>0.002694</td>\n",
       "      <td>0.202469</td>\n",
       "      <td>0.003171</td>\n",
       "      <td>0.761543</td>\n",
       "      <td>0.025878</td>\n",
       "    </tr>\n",
       "    <tr>\n",
       "      <th>3</th>\n",
       "      <td>3</td>\n",
       "      <td>0.182656</td>\n",
       "      <td>0.001401</td>\n",
       "      <td>0.191400</td>\n",
       "      <td>0.001531</td>\n",
       "      <td>0.801902</td>\n",
       "      <td>0.008434</td>\n",
       "    </tr>\n",
       "    <tr>\n",
       "      <th>4</th>\n",
       "      <td>4</td>\n",
       "      <td>0.175531</td>\n",
       "      <td>0.001515</td>\n",
       "      <td>0.185466</td>\n",
       "      <td>0.002237</td>\n",
       "      <td>0.817244</td>\n",
       "      <td>0.008916</td>\n",
       "    </tr>\n",
       "    <tr>\n",
       "      <th>5</th>\n",
       "      <td>5</td>\n",
       "      <td>0.172046</td>\n",
       "      <td>0.002150</td>\n",
       "      <td>0.182478</td>\n",
       "      <td>0.002121</td>\n",
       "      <td>0.823333</td>\n",
       "      <td>0.006377</td>\n",
       "    </tr>\n",
       "    <tr>\n",
       "      <th>6</th>\n",
       "      <td>6</td>\n",
       "      <td>0.170193</td>\n",
       "      <td>0.001849</td>\n",
       "      <td>0.180450</td>\n",
       "      <td>0.002460</td>\n",
       "      <td>0.828977</td>\n",
       "      <td>0.007246</td>\n",
       "    </tr>\n",
       "    <tr>\n",
       "      <th>7</th>\n",
       "      <td>7</td>\n",
       "      <td>0.168321</td>\n",
       "      <td>0.002187</td>\n",
       "      <td>0.178140</td>\n",
       "      <td>0.002177</td>\n",
       "      <td>0.834106</td>\n",
       "      <td>0.010527</td>\n",
       "    </tr>\n",
       "    <tr>\n",
       "      <th>8</th>\n",
       "      <td>8</td>\n",
       "      <td>0.167416</td>\n",
       "      <td>0.002498</td>\n",
       "      <td>0.176438</td>\n",
       "      <td>0.002126</td>\n",
       "      <td>0.835628</td>\n",
       "      <td>0.011008</td>\n",
       "    </tr>\n",
       "    <tr>\n",
       "      <th>9</th>\n",
       "      <td>9</td>\n",
       "      <td>0.166474</td>\n",
       "      <td>0.003010</td>\n",
       "      <td>0.175041</td>\n",
       "      <td>0.002259</td>\n",
       "      <td>0.837496</td>\n",
       "      <td>0.011698</td>\n",
       "    </tr>\n",
       "  </tbody>\n",
       "</table>\n",
       "</div>"
      ],
      "text/plain": [
       "   iterations  test-Logloss-mean  test-Logloss-std  train-Logloss-mean  \\\n",
       "0           0           0.305831          0.000020            0.305810   \n",
       "1           1           0.234755          0.001020            0.235427   \n",
       "2           2           0.196036          0.002694            0.202469   \n",
       "3           3           0.182656          0.001401            0.191400   \n",
       "4           4           0.175531          0.001515            0.185466   \n",
       "5           5           0.172046          0.002150            0.182478   \n",
       "6           6           0.170193          0.001849            0.180450   \n",
       "7           7           0.168321          0.002187            0.178140   \n",
       "8           8           0.167416          0.002498            0.176438   \n",
       "9           9           0.166474          0.003010            0.175041   \n",
       "\n",
       "   train-Logloss-std  test-AUC-mean  test-AUC-std  \n",
       "0           0.000014       0.496175      0.014042  \n",
       "1           0.000274       0.569789      0.030202  \n",
       "2           0.003171       0.761543      0.025878  \n",
       "3           0.001531       0.801902      0.008434  \n",
       "4           0.002237       0.817244      0.008916  \n",
       "5           0.002121       0.823333      0.006377  \n",
       "6           0.002460       0.828977      0.007246  \n",
       "7           0.002177       0.834106      0.010527  \n",
       "8           0.002126       0.835628      0.011008  \n",
       "9           0.002259       0.837496      0.011698  "
      ]
     },
     "execution_count": 17,
     "metadata": {},
     "output_type": "execute_result"
    }
   ],
   "source": [
    "cv_data.head(10)"
   ]
  },
  {
   "cell_type": "code",
   "execution_count": 18,
   "id": "6b0d02bc",
   "metadata": {},
   "outputs": [
    {
     "data": {
      "application/vnd.jupyter.widget-view+json": {
       "model_id": "23b52aa0a5cb4288930e84e57c0a86e6",
       "version_major": 2,
       "version_minor": 0
      },
      "text/plain": [
       "MetricVisualizer(layout=Layout(align_self='stretch', height='500px'))"
      ]
     },
     "metadata": {},
     "output_type": "display_data"
    }
   ],
   "source": [
    "# Overfitting Detector\n",
    "\n",
    "model_with_early_stop = CatBoostClassifier(\n",
    "    iterations=200,\n",
    "    learning_rate=0.5,\n",
    "    early_stopping_rounds=20\n",
    ")\n",
    "\n",
    "model_with_early_stop.fit(\n",
    "    train_pool, \n",
    "    eval_set = validation_pool, \n",
    "    verbose=False,\n",
    "    plot=True\n",
    ");"
   ]
  },
  {
   "cell_type": "code",
   "execution_count": 19,
   "id": "b928e29f",
   "metadata": {},
   "outputs": [
    {
     "name": "stdout",
     "output_type": "stream",
     "text": [
      "0:\tlearn: 0.4076708\ttotal: 230ms\tremaining: 45.8s\n",
      "50:\tlearn: 0.1468942\ttotal: 12.7s\tremaining: 37.2s\n",
      "100:\tlearn: 0.1341168\ttotal: 25.4s\tremaining: 24.9s\n",
      "150:\tlearn: 0.1242725\ttotal: 38.3s\tremaining: 12.4s\n",
      "199:\tlearn: 0.1148999\ttotal: 50.8s\tremaining: 0us\n"
     ]
    },
    {
     "data": {
      "text/plain": [
       "<catboost.core.CatBoostClassifier at 0x281ba738820>"
      ]
     },
     "execution_count": 19,
     "metadata": {},
     "output_type": "execute_result"
    }
   ],
   "source": [
    "# Prediction\n",
    "model = CatBoostClassifier(iterations=200, learning_rate=0.3)\n",
    "model.fit(train_pool, verbose=50)"
   ]
  },
  {
   "cell_type": "code",
   "execution_count": 20,
   "id": "b8cb849c",
   "metadata": {},
   "outputs": [
    {
     "name": "stdout",
     "output_type": "stream",
     "text": [
      "[1 1 1 ... 1 1 1]\n"
     ]
    }
   ],
   "source": [
    "print(model.predict(X_validation))"
   ]
  },
  {
   "cell_type": "code",
   "execution_count": 21,
   "id": "ef0fda3e",
   "metadata": {},
   "outputs": [
    {
     "name": "stdout",
     "output_type": "stream",
     "text": [
      "[[0.0065 0.9935]\n",
      " [0.0233 0.9767]\n",
      " [0.0042 0.9958]\n",
      " ...\n",
      " [0.0224 0.9776]\n",
      " [0.0722 0.9278]\n",
      " [0.0092 0.9908]]\n"
     ]
    }
   ],
   "source": [
    "print(model.predict_proba(X_validation))"
   ]
  },
  {
   "cell_type": "code",
   "execution_count": 22,
   "id": "d0f398ca",
   "metadata": {},
   "outputs": [
    {
     "name": "stdout",
     "output_type": "stream",
     "text": [
      "[5.027  3.7375 5.4608 ... 3.7768 2.5538 4.6809]\n"
     ]
    }
   ],
   "source": [
    "raw_pred = model.predict(\n",
    "    X_validation,\n",
    "    prediction_type='RawFormulaVal'\n",
    "    \n",
    ")\n",
    "\n",
    "print(raw_pred)"
   ]
  },
  {
   "cell_type": "code",
   "execution_count": 23,
   "id": "b74c2a85",
   "metadata": {},
   "outputs": [
    {
     "data": {
      "text/plain": [
       "array([['RESOURCE', 17.382551195490088],\n",
       "       ['ROLE_DEPTNAME', 17.35037716501782],\n",
       "       ['MGR_ID', 14.984907833403316],\n",
       "       ['ROLE_ROLLUP_2', 11.909655586316477],\n",
       "       ['ROLE_FAMILY_DESC', 9.761536267864287],\n",
       "       ['ROLE_TITLE', 9.638469280582443],\n",
       "       ['ROLE_FAMILY', 7.370120955656141],\n",
       "       ['ROLE_ROLLUP_1', 6.816752235258708],\n",
       "       ['ROLE_CODE', 4.785629480410685]], dtype=object)"
      ]
     },
     "execution_count": 23,
     "metadata": {},
     "output_type": "execute_result"
    }
   ],
   "source": [
    "# Feature Importances\n",
    "np.array(model.get_feature_importance(prettified=True))"
   ]
  },
  {
   "cell_type": "code",
   "execution_count": 24,
   "id": "1dd547c8",
   "metadata": {},
   "outputs": [
    {
     "data": {
      "text/plain": [
       "array([['RESOURCE', 0.022919717773406196],\n",
       "       ['MGR_ID', 0.016746814887440925],\n",
       "       ['ROLE_DEPTNAME', 0.007538196263116691],\n",
       "       ['ROLE_TITLE', 0.006690289660723584],\n",
       "       ['ROLE_FAMILY_DESC', 0.003517874912121435],\n",
       "       ['ROLE_ROLLUP_2', 0.003098796585952841],\n",
       "       ['ROLE_ROLLUP_1', 0.0011968922847948938],\n",
       "       ['ROLE_CODE', 0.000717905366603625],\n",
       "       ['ROLE_FAMILY', -0.0007305941438350746]], dtype=object)"
      ]
     },
     "execution_count": 24,
     "metadata": {},
     "output_type": "execute_result"
    }
   ],
   "source": [
    "np.array(model.get_feature_importance(\n",
    "    train_pool,\n",
    "    'LossFunctionChange',\n",
    "    prettified=True\n",
    "))"
   ]
  },
  {
   "cell_type": "code",
   "execution_count": 25,
   "id": "5cd0563e",
   "metadata": {},
   "outputs": [
    {
     "name": "stdout",
     "output_type": "stream",
     "text": [
      "[[0.0089 0.9911]]\n",
      "[[0.9881 0.0119]]\n"
     ]
    }
   ],
   "source": [
    "# Shap Values\n",
    "print(model.predict_proba([X.iloc[1,:]]))\n",
    "print(model.predict_proba([X.iloc[91,:]]))"
   ]
  },
  {
   "cell_type": "code",
   "execution_count": 27,
   "id": "0946506f",
   "metadata": {},
   "outputs": [
    {
     "name": "stdout",
     "output_type": "stream",
     "text": [
      "(6554, 9)\n"
     ]
    }
   ],
   "source": [
    "shap_values = model.get_feature_importance(\n",
    "    validation_pool,\n",
    "    'ShapValues'\n",
    ")\n",
    "expected_value = shap_values[0,-1]\n",
    "shap_values = shap_values[:,:-1]\n",
    "print(shap_values.shape)"
   ]
  },
  {
   "cell_type": "code",
   "execution_count": 32,
   "id": "09115082",
   "metadata": {},
   "outputs": [
    {
     "name": "stdout",
     "output_type": "stream",
     "text": [
      "Learning rate set to 0.193326\n",
      "\n",
      "bestTest = 0.1573067324\n",
      "bestIteration = 81\n",
      "\n",
      "Shrink model to first 82 iterations.\n"
     ]
    },
    {
     "data": {
      "text/plain": [
       "<catboost.core.CatBoostClassifier at 0x281ba7782b0>"
      ]
     },
     "execution_count": 32,
     "metadata": {},
     "output_type": "execute_result"
    }
   ],
   "source": [
    "# Snapshotting\n",
    "model = CatBoostClassifier(\n",
    "    iterations=100,\n",
    "    save_snapshot=True,\n",
    "    snapshot_file='snapshot.bkp',\n",
    "    snapshot_interval=1\n",
    ")\n",
    "\n",
    "model.fit(train_pool, eval_set=validation_pool, verbose=10)"
   ]
  },
  {
   "cell_type": "code",
   "execution_count": 37,
   "id": "2b1ee59d",
   "metadata": {},
   "outputs": [
    {
     "data": {
      "application/vnd.jupyter.widget-view+json": {
       "model_id": "5447e4430b4949669b4bd0b4c26d4dc6",
       "version_major": 2,
       "version_minor": 0
      },
      "text/plain": [
       "MetricVisualizer(layout=Layout(align_self='stretch', height='500px'))"
      ]
     },
     "metadata": {},
     "output_type": "display_data"
    },
    {
     "data": {
      "text/plain": [
       "<catboost.core.CatBoostClassifier at 0x281c9497fd0>"
      ]
     },
     "execution_count": 37,
     "metadata": {},
     "output_type": "execute_result"
    }
   ],
   "source": [
    "# Hyperparameter tuning\n",
    "tunned_model = model = CatBoostClassifier(\n",
    "    iterations=100,\n",
    "    learning_rate=0.03,\n",
    "    depth=6,\n",
    "    l2_leaf_reg=3,\n",
    "    random_strength=1,\n",
    "    bagging_temperature=1\n",
    ")\n",
    "\n",
    "tunned_model.fit(\n",
    "    X_train, y_train,\n",
    "    cat_features=cat_features,\n",
    "    verbose=False,\n",
    "    eval_set=(X_validation, y_validation),\n",
    "    plot=True\n",
    ")"
   ]
  },
  {
   "cell_type": "code",
   "execution_count": null,
   "id": "4ec08df3",
   "metadata": {},
   "outputs": [],
   "source": []
  }
 ],
 "metadata": {
  "kernelspec": {
   "display_name": "Python 3 (ipykernel)",
   "language": "python",
   "name": "python3"
  },
  "language_info": {
   "codemirror_mode": {
    "name": "ipython",
    "version": 3
   },
   "file_extension": ".py",
   "mimetype": "text/x-python",
   "name": "python",
   "nbconvert_exporter": "python",
   "pygments_lexer": "ipython3",
   "version": "3.9.12"
  }
 },
 "nbformat": 4,
 "nbformat_minor": 5
}
