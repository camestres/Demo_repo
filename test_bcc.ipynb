{
  "nbformat": 4,
  "nbformat_minor": 0,
  "metadata": {
    "colab": {
      "provenance": []
    },
    "kernelspec": {
      "name": "python3",
      "display_name": "Python 3"
    },
    "language_info": {
      "name": "python"
    }
  },
  "cells": [
    {
      "cell_type": "code",
      "execution_count": 1,
      "metadata": {
        "id": "4GUyiKdNxM3k"
      },
      "outputs": [],
      "source": [
        "import pandas as pd\n",
        "import numpy as np\n",
        "\n",
        "from sklearn.model_selection import train_test_split\n",
        "from sklearn.linear_model import LogisticRegression\n",
        "from sklearn.tree import DecisionTreeClassifier\n",
        "from sklearn.ensemble import RandomForestClassifier\n",
        "import xgboost as xgb\n",
        "\n",
        "from sklearn.model_selection import GridSearchCV\n",
        "from sklearn.metrics import roc_auc_score"
      ]
    },
    {
      "cell_type": "code",
      "source": [
        "df = pd.read_excel(\"/content/data1.xlsx\", sheet_name = 'Data')"
      ],
      "metadata": {
        "id": "mcsmP1sQyBkQ"
      },
      "execution_count": 2,
      "outputs": []
    },
    {
      "cell_type": "code",
      "source": [
        "df.head()"
      ],
      "metadata": {
        "colab": {
          "base_uri": "https://localhost:8080/",
          "height": 300
        },
        "id": "KVuplHmvy4vu",
        "outputId": "1021139a-75a3-4ea8-9338-7421011942a7"
      },
      "execution_count": 3,
      "outputs": [
        {
          "output_type": "execute_result",
          "data": {
            "text/plain": [
              "   index        x_0       x_1          x_2       x_3       x_4        x_5  \\\n",
              "0      0  10.528055  0.308325  1154.451034  0.147287  0.854394   4.483094   \n",
              "1      1   8.932895  0.000000  1321.542631  0.189447  0.854394   4.483094   \n",
              "2      2   6.460397  0.308325  1184.831324  0.136356  3.417574   4.483094   \n",
              "3      3  14.675470  1.849952     0.000000  0.127774  5.980755  10.759425   \n",
              "4      4   6.938945  1.849952     0.000000  0.114831  0.854394   5.977458   \n",
              "\n",
              "         x_6         x_7         x_8  ...       x_14       x_15      x_16  \\\n",
              "0   9.894689   28.741196  389.133299  ...  12.143896  10.328332  1.756277   \n",
              "1  11.543803   11.676111  391.040816  ...  14.572675  10.328332  8.781386   \n",
              "2   7.146164   15.268760  495.000447  ...  12.143896   5.901904  1.756277   \n",
              "3   8.795279   31.435683  980.463313  ...  19.430234   1.475476  1.756277   \n",
              "4   7.695869  110.473971  768.729018  ...   4.857558   0.000000  1.756277   \n",
              "\n",
              "            x_17       x_18         x_19         x_20          x_21  \\\n",
              "0      32.440867   4.767277    25.931299    67.881356  7.790180e+06   \n",
              "1  571672.962983  14.301832   185.223564  3256.042367  8.722124e+06   \n",
              "2       0.000000  38.138219  1196.544226   730.855931  6.396224e+05   \n",
              "3      16.220434   0.000000    25.931299    15.838983  4.024388e+07   \n",
              "4      16.220434   0.000000     0.000000     0.000000  0.000000e+00   \n",
              "\n",
              "           x_22  target  \n",
              "0  7.297312e+02       0  \n",
              "1  2.949072e+07       1  \n",
              "2  0.000000e+00       0  \n",
              "3  1.060543e+03       0  \n",
              "4  0.000000e+00       0  \n",
              "\n",
              "[5 rows x 25 columns]"
            ],
            "text/html": [
              "\n",
              "  <div id=\"df-c60afe22-256f-48f2-b652-aa691e0f8ff9\">\n",
              "    <div class=\"colab-df-container\">\n",
              "      <div>\n",
              "<style scoped>\n",
              "    .dataframe tbody tr th:only-of-type {\n",
              "        vertical-align: middle;\n",
              "    }\n",
              "\n",
              "    .dataframe tbody tr th {\n",
              "        vertical-align: top;\n",
              "    }\n",
              "\n",
              "    .dataframe thead th {\n",
              "        text-align: right;\n",
              "    }\n",
              "</style>\n",
              "<table border=\"1\" class=\"dataframe\">\n",
              "  <thead>\n",
              "    <tr style=\"text-align: right;\">\n",
              "      <th></th>\n",
              "      <th>index</th>\n",
              "      <th>x_0</th>\n",
              "      <th>x_1</th>\n",
              "      <th>x_2</th>\n",
              "      <th>x_3</th>\n",
              "      <th>x_4</th>\n",
              "      <th>x_5</th>\n",
              "      <th>x_6</th>\n",
              "      <th>x_7</th>\n",
              "      <th>x_8</th>\n",
              "      <th>...</th>\n",
              "      <th>x_14</th>\n",
              "      <th>x_15</th>\n",
              "      <th>x_16</th>\n",
              "      <th>x_17</th>\n",
              "      <th>x_18</th>\n",
              "      <th>x_19</th>\n",
              "      <th>x_20</th>\n",
              "      <th>x_21</th>\n",
              "      <th>x_22</th>\n",
              "      <th>target</th>\n",
              "    </tr>\n",
              "  </thead>\n",
              "  <tbody>\n",
              "    <tr>\n",
              "      <th>0</th>\n",
              "      <td>0</td>\n",
              "      <td>10.528055</td>\n",
              "      <td>0.308325</td>\n",
              "      <td>1154.451034</td>\n",
              "      <td>0.147287</td>\n",
              "      <td>0.854394</td>\n",
              "      <td>4.483094</td>\n",
              "      <td>9.894689</td>\n",
              "      <td>28.741196</td>\n",
              "      <td>389.133299</td>\n",
              "      <td>...</td>\n",
              "      <td>12.143896</td>\n",
              "      <td>10.328332</td>\n",
              "      <td>1.756277</td>\n",
              "      <td>32.440867</td>\n",
              "      <td>4.767277</td>\n",
              "      <td>25.931299</td>\n",
              "      <td>67.881356</td>\n",
              "      <td>7.790180e+06</td>\n",
              "      <td>7.297312e+02</td>\n",
              "      <td>0</td>\n",
              "    </tr>\n",
              "    <tr>\n",
              "      <th>1</th>\n",
              "      <td>1</td>\n",
              "      <td>8.932895</td>\n",
              "      <td>0.000000</td>\n",
              "      <td>1321.542631</td>\n",
              "      <td>0.189447</td>\n",
              "      <td>0.854394</td>\n",
              "      <td>4.483094</td>\n",
              "      <td>11.543803</td>\n",
              "      <td>11.676111</td>\n",
              "      <td>391.040816</td>\n",
              "      <td>...</td>\n",
              "      <td>14.572675</td>\n",
              "      <td>10.328332</td>\n",
              "      <td>8.781386</td>\n",
              "      <td>571672.962983</td>\n",
              "      <td>14.301832</td>\n",
              "      <td>185.223564</td>\n",
              "      <td>3256.042367</td>\n",
              "      <td>8.722124e+06</td>\n",
              "      <td>2.949072e+07</td>\n",
              "      <td>1</td>\n",
              "    </tr>\n",
              "    <tr>\n",
              "      <th>2</th>\n",
              "      <td>2</td>\n",
              "      <td>6.460397</td>\n",
              "      <td>0.308325</td>\n",
              "      <td>1184.831324</td>\n",
              "      <td>0.136356</td>\n",
              "      <td>3.417574</td>\n",
              "      <td>4.483094</td>\n",
              "      <td>7.146164</td>\n",
              "      <td>15.268760</td>\n",
              "      <td>495.000447</td>\n",
              "      <td>...</td>\n",
              "      <td>12.143896</td>\n",
              "      <td>5.901904</td>\n",
              "      <td>1.756277</td>\n",
              "      <td>0.000000</td>\n",
              "      <td>38.138219</td>\n",
              "      <td>1196.544226</td>\n",
              "      <td>730.855931</td>\n",
              "      <td>6.396224e+05</td>\n",
              "      <td>0.000000e+00</td>\n",
              "      <td>0</td>\n",
              "    </tr>\n",
              "    <tr>\n",
              "      <th>3</th>\n",
              "      <td>3</td>\n",
              "      <td>14.675470</td>\n",
              "      <td>1.849952</td>\n",
              "      <td>0.000000</td>\n",
              "      <td>0.127774</td>\n",
              "      <td>5.980755</td>\n",
              "      <td>10.759425</td>\n",
              "      <td>8.795279</td>\n",
              "      <td>31.435683</td>\n",
              "      <td>980.463313</td>\n",
              "      <td>...</td>\n",
              "      <td>19.430234</td>\n",
              "      <td>1.475476</td>\n",
              "      <td>1.756277</td>\n",
              "      <td>16.220434</td>\n",
              "      <td>0.000000</td>\n",
              "      <td>25.931299</td>\n",
              "      <td>15.838983</td>\n",
              "      <td>4.024388e+07</td>\n",
              "      <td>1.060543e+03</td>\n",
              "      <td>0</td>\n",
              "    </tr>\n",
              "    <tr>\n",
              "      <th>4</th>\n",
              "      <td>4</td>\n",
              "      <td>6.938945</td>\n",
              "      <td>1.849952</td>\n",
              "      <td>0.000000</td>\n",
              "      <td>0.114831</td>\n",
              "      <td>0.854394</td>\n",
              "      <td>5.977458</td>\n",
              "      <td>7.695869</td>\n",
              "      <td>110.473971</td>\n",
              "      <td>768.729018</td>\n",
              "      <td>...</td>\n",
              "      <td>4.857558</td>\n",
              "      <td>0.000000</td>\n",
              "      <td>1.756277</td>\n",
              "      <td>16.220434</td>\n",
              "      <td>0.000000</td>\n",
              "      <td>0.000000</td>\n",
              "      <td>0.000000</td>\n",
              "      <td>0.000000e+00</td>\n",
              "      <td>0.000000e+00</td>\n",
              "      <td>0</td>\n",
              "    </tr>\n",
              "  </tbody>\n",
              "</table>\n",
              "<p>5 rows × 25 columns</p>\n",
              "</div>\n",
              "      <button class=\"colab-df-convert\" onclick=\"convertToInteractive('df-c60afe22-256f-48f2-b652-aa691e0f8ff9')\"\n",
              "              title=\"Convert this dataframe to an interactive table.\"\n",
              "              style=\"display:none;\">\n",
              "        \n",
              "  <svg xmlns=\"http://www.w3.org/2000/svg\" height=\"24px\"viewBox=\"0 0 24 24\"\n",
              "       width=\"24px\">\n",
              "    <path d=\"M0 0h24v24H0V0z\" fill=\"none\"/>\n",
              "    <path d=\"M18.56 5.44l.94 2.06.94-2.06 2.06-.94-2.06-.94-.94-2.06-.94 2.06-2.06.94zm-11 1L8.5 8.5l.94-2.06 2.06-.94-2.06-.94L8.5 2.5l-.94 2.06-2.06.94zm10 10l.94 2.06.94-2.06 2.06-.94-2.06-.94-.94-2.06-.94 2.06-2.06.94z\"/><path d=\"M17.41 7.96l-1.37-1.37c-.4-.4-.92-.59-1.43-.59-.52 0-1.04.2-1.43.59L10.3 9.45l-7.72 7.72c-.78.78-.78 2.05 0 2.83L4 21.41c.39.39.9.59 1.41.59.51 0 1.02-.2 1.41-.59l7.78-7.78 2.81-2.81c.8-.78.8-2.07 0-2.86zM5.41 20L4 18.59l7.72-7.72 1.47 1.35L5.41 20z\"/>\n",
              "  </svg>\n",
              "      </button>\n",
              "      \n",
              "  <style>\n",
              "    .colab-df-container {\n",
              "      display:flex;\n",
              "      flex-wrap:wrap;\n",
              "      gap: 12px;\n",
              "    }\n",
              "\n",
              "    .colab-df-convert {\n",
              "      background-color: #E8F0FE;\n",
              "      border: none;\n",
              "      border-radius: 50%;\n",
              "      cursor: pointer;\n",
              "      display: none;\n",
              "      fill: #1967D2;\n",
              "      height: 32px;\n",
              "      padding: 0 0 0 0;\n",
              "      width: 32px;\n",
              "    }\n",
              "\n",
              "    .colab-df-convert:hover {\n",
              "      background-color: #E2EBFA;\n",
              "      box-shadow: 0px 1px 2px rgba(60, 64, 67, 0.3), 0px 1px 3px 1px rgba(60, 64, 67, 0.15);\n",
              "      fill: #174EA6;\n",
              "    }\n",
              "\n",
              "    [theme=dark] .colab-df-convert {\n",
              "      background-color: #3B4455;\n",
              "      fill: #D2E3FC;\n",
              "    }\n",
              "\n",
              "    [theme=dark] .colab-df-convert:hover {\n",
              "      background-color: #434B5C;\n",
              "      box-shadow: 0px 1px 3px 1px rgba(0, 0, 0, 0.15);\n",
              "      filter: drop-shadow(0px 1px 2px rgba(0, 0, 0, 0.3));\n",
              "      fill: #FFFFFF;\n",
              "    }\n",
              "  </style>\n",
              "\n",
              "      <script>\n",
              "        const buttonEl =\n",
              "          document.querySelector('#df-c60afe22-256f-48f2-b652-aa691e0f8ff9 button.colab-df-convert');\n",
              "        buttonEl.style.display =\n",
              "          google.colab.kernel.accessAllowed ? 'block' : 'none';\n",
              "\n",
              "        async function convertToInteractive(key) {\n",
              "          const element = document.querySelector('#df-c60afe22-256f-48f2-b652-aa691e0f8ff9');\n",
              "          const dataTable =\n",
              "            await google.colab.kernel.invokeFunction('convertToInteractive',\n",
              "                                                     [key], {});\n",
              "          if (!dataTable) return;\n",
              "\n",
              "          const docLinkHtml = 'Like what you see? Visit the ' +\n",
              "            '<a target=\"_blank\" href=https://colab.research.google.com/notebooks/data_table.ipynb>data table notebook</a>'\n",
              "            + ' to learn more about interactive tables.';\n",
              "          element.innerHTML = '';\n",
              "          dataTable['output_type'] = 'display_data';\n",
              "          await google.colab.output.renderOutput(dataTable, element);\n",
              "          const docLink = document.createElement('div');\n",
              "          docLink.innerHTML = docLinkHtml;\n",
              "          element.appendChild(docLink);\n",
              "        }\n",
              "      </script>\n",
              "    </div>\n",
              "  </div>\n",
              "  "
            ]
          },
          "metadata": {},
          "execution_count": 3
        }
      ]
    },
    {
      "cell_type": "code",
      "source": [
        "# общая оценка датасета даёт понимание по выбросам\n",
        "df.describe()"
      ],
      "metadata": {
        "colab": {
          "base_uri": "https://localhost:8080/",
          "height": 394
        },
        "id": "ffT77uIyy6SW",
        "outputId": "01d235ed-b4bb-467c-c26b-b0acb28f2790"
      },
      "execution_count": 4,
      "outputs": [
        {
          "output_type": "execute_result",
          "data": {
            "text/plain": [
              "              index           x_0           x_1           x_2           x_3  \\\n",
              "count  37163.000000  37163.000000  37163.000000  37163.000000  37163.000000   \n",
              "mean   18684.912494      9.504722      1.547044     12.789184      0.160645   \n",
              "std    10782.815759      4.548465      0.476993     48.567391      0.030803   \n",
              "min        0.000000      0.000000      0.000000      0.000000      0.042327   \n",
              "25%     9350.500000      6.061607      1.541627      0.000000      0.140838   \n",
              "50%    18684.000000     10.528055      1.849952      0.000000      0.169732   \n",
              "75%    28019.500000     13.877891      1.849952      7.595073      0.186491   \n",
              "max    37361.000000     14.675470      3.699904   1830.412494      0.503493   \n",
              "\n",
              "                x_4           x_5           x_6           x_7           x_8  \\\n",
              "count  37163.000000  29659.000000  37163.000000  37163.000000  37163.000000   \n",
              "mean       2.127006      9.809432     10.679249     64.973031    840.680509   \n",
              "std        1.817300      7.329434      2.935218     58.356331    801.805834   \n",
              "min        0.854394      0.747182      5.222197      4.490812      0.000000   \n",
              "25%        0.854394      5.230276      8.245574     13.472435    310.925136   \n",
              "50%        0.854394      8.219005     10.169541     41.315469    443.497510   \n",
              "75%        3.417574     12.453038     12.918066    110.473971   1081.561670   \n",
              "max        7.689542    112.824525     18.140263    359.264946   3241.823737   \n",
              "\n",
              "       ...          x_14          x_15          x_16          x_17  \\\n",
              "count  ...  36771.000000  36771.000000  36762.000000  3.676200e+04   \n",
              "mean   ...     12.044654     13.162197      1.804290  4.391995e+03   \n",
              "std    ...     14.626903     19.420506      1.584417  7.124006e+04   \n",
              "min    ...      0.000000      0.000000      0.000000  0.000000e+00   \n",
              "25%    ...      3.643169      2.950952      0.878139  0.000000e+00   \n",
              "50%    ...      7.286338      8.852856      1.756277  1.622043e+01   \n",
              "75%    ...     14.572675     16.230236      2.634416  1.622043e+01   \n",
              "max    ...    268.380106    674.292553     34.247406  2.286692e+06   \n",
              "\n",
              "               x_18          x_19          x_20          x_21          x_22  \\\n",
              "count  36762.000000  36762.000000  36762.000000  3.563700e+04  3.563700e+04   \n",
              "mean       5.978549    541.152294    760.318517  6.796170e+06  3.758539e+05   \n",
              "std       14.250700   2004.683136   1720.381726  1.975901e+07  3.656964e+06   \n",
              "min        0.000000      0.000000      0.000000  0.000000e+00  0.000000e+00   \n",
              "25%        0.000000      0.000000      2.262712  0.000000e+00  0.000000e+00   \n",
              "50%        0.000000      7.408943     42.991525  1.260498e+06  1.654057e+02   \n",
              "75%        4.767277     85.202840    500.059321  6.285744e+06  5.837850e+02   \n",
              "max      395.684025  22375.006588  84369.737133  1.540909e+09  1.327082e+08   \n",
              "\n",
              "             target  \n",
              "count  37163.000000  \n",
              "mean       0.018029  \n",
              "std        0.133057  \n",
              "min        0.000000  \n",
              "25%        0.000000  \n",
              "50%        0.000000  \n",
              "75%        0.000000  \n",
              "max        1.000000  \n",
              "\n",
              "[8 rows x 25 columns]"
            ],
            "text/html": [
              "\n",
              "  <div id=\"df-6403475e-5c50-4c0d-b285-af9dc23d6484\">\n",
              "    <div class=\"colab-df-container\">\n",
              "      <div>\n",
              "<style scoped>\n",
              "    .dataframe tbody tr th:only-of-type {\n",
              "        vertical-align: middle;\n",
              "    }\n",
              "\n",
              "    .dataframe tbody tr th {\n",
              "        vertical-align: top;\n",
              "    }\n",
              "\n",
              "    .dataframe thead th {\n",
              "        text-align: right;\n",
              "    }\n",
              "</style>\n",
              "<table border=\"1\" class=\"dataframe\">\n",
              "  <thead>\n",
              "    <tr style=\"text-align: right;\">\n",
              "      <th></th>\n",
              "      <th>index</th>\n",
              "      <th>x_0</th>\n",
              "      <th>x_1</th>\n",
              "      <th>x_2</th>\n",
              "      <th>x_3</th>\n",
              "      <th>x_4</th>\n",
              "      <th>x_5</th>\n",
              "      <th>x_6</th>\n",
              "      <th>x_7</th>\n",
              "      <th>x_8</th>\n",
              "      <th>...</th>\n",
              "      <th>x_14</th>\n",
              "      <th>x_15</th>\n",
              "      <th>x_16</th>\n",
              "      <th>x_17</th>\n",
              "      <th>x_18</th>\n",
              "      <th>x_19</th>\n",
              "      <th>x_20</th>\n",
              "      <th>x_21</th>\n",
              "      <th>x_22</th>\n",
              "      <th>target</th>\n",
              "    </tr>\n",
              "  </thead>\n",
              "  <tbody>\n",
              "    <tr>\n",
              "      <th>count</th>\n",
              "      <td>37163.000000</td>\n",
              "      <td>37163.000000</td>\n",
              "      <td>37163.000000</td>\n",
              "      <td>37163.000000</td>\n",
              "      <td>37163.000000</td>\n",
              "      <td>37163.000000</td>\n",
              "      <td>29659.000000</td>\n",
              "      <td>37163.000000</td>\n",
              "      <td>37163.000000</td>\n",
              "      <td>37163.000000</td>\n",
              "      <td>...</td>\n",
              "      <td>36771.000000</td>\n",
              "      <td>36771.000000</td>\n",
              "      <td>36762.000000</td>\n",
              "      <td>3.676200e+04</td>\n",
              "      <td>36762.000000</td>\n",
              "      <td>36762.000000</td>\n",
              "      <td>36762.000000</td>\n",
              "      <td>3.563700e+04</td>\n",
              "      <td>3.563700e+04</td>\n",
              "      <td>37163.000000</td>\n",
              "    </tr>\n",
              "    <tr>\n",
              "      <th>mean</th>\n",
              "      <td>18684.912494</td>\n",
              "      <td>9.504722</td>\n",
              "      <td>1.547044</td>\n",
              "      <td>12.789184</td>\n",
              "      <td>0.160645</td>\n",
              "      <td>2.127006</td>\n",
              "      <td>9.809432</td>\n",
              "      <td>10.679249</td>\n",
              "      <td>64.973031</td>\n",
              "      <td>840.680509</td>\n",
              "      <td>...</td>\n",
              "      <td>12.044654</td>\n",
              "      <td>13.162197</td>\n",
              "      <td>1.804290</td>\n",
              "      <td>4.391995e+03</td>\n",
              "      <td>5.978549</td>\n",
              "      <td>541.152294</td>\n",
              "      <td>760.318517</td>\n",
              "      <td>6.796170e+06</td>\n",
              "      <td>3.758539e+05</td>\n",
              "      <td>0.018029</td>\n",
              "    </tr>\n",
              "    <tr>\n",
              "      <th>std</th>\n",
              "      <td>10782.815759</td>\n",
              "      <td>4.548465</td>\n",
              "      <td>0.476993</td>\n",
              "      <td>48.567391</td>\n",
              "      <td>0.030803</td>\n",
              "      <td>1.817300</td>\n",
              "      <td>7.329434</td>\n",
              "      <td>2.935218</td>\n",
              "      <td>58.356331</td>\n",
              "      <td>801.805834</td>\n",
              "      <td>...</td>\n",
              "      <td>14.626903</td>\n",
              "      <td>19.420506</td>\n",
              "      <td>1.584417</td>\n",
              "      <td>7.124006e+04</td>\n",
              "      <td>14.250700</td>\n",
              "      <td>2004.683136</td>\n",
              "      <td>1720.381726</td>\n",
              "      <td>1.975901e+07</td>\n",
              "      <td>3.656964e+06</td>\n",
              "      <td>0.133057</td>\n",
              "    </tr>\n",
              "    <tr>\n",
              "      <th>min</th>\n",
              "      <td>0.000000</td>\n",
              "      <td>0.000000</td>\n",
              "      <td>0.000000</td>\n",
              "      <td>0.000000</td>\n",
              "      <td>0.042327</td>\n",
              "      <td>0.854394</td>\n",
              "      <td>0.747182</td>\n",
              "      <td>5.222197</td>\n",
              "      <td>4.490812</td>\n",
              "      <td>0.000000</td>\n",
              "      <td>...</td>\n",
              "      <td>0.000000</td>\n",
              "      <td>0.000000</td>\n",
              "      <td>0.000000</td>\n",
              "      <td>0.000000e+00</td>\n",
              "      <td>0.000000</td>\n",
              "      <td>0.000000</td>\n",
              "      <td>0.000000</td>\n",
              "      <td>0.000000e+00</td>\n",
              "      <td>0.000000e+00</td>\n",
              "      <td>0.000000</td>\n",
              "    </tr>\n",
              "    <tr>\n",
              "      <th>25%</th>\n",
              "      <td>9350.500000</td>\n",
              "      <td>6.061607</td>\n",
              "      <td>1.541627</td>\n",
              "      <td>0.000000</td>\n",
              "      <td>0.140838</td>\n",
              "      <td>0.854394</td>\n",
              "      <td>5.230276</td>\n",
              "      <td>8.245574</td>\n",
              "      <td>13.472435</td>\n",
              "      <td>310.925136</td>\n",
              "      <td>...</td>\n",
              "      <td>3.643169</td>\n",
              "      <td>2.950952</td>\n",
              "      <td>0.878139</td>\n",
              "      <td>0.000000e+00</td>\n",
              "      <td>0.000000</td>\n",
              "      <td>0.000000</td>\n",
              "      <td>2.262712</td>\n",
              "      <td>0.000000e+00</td>\n",
              "      <td>0.000000e+00</td>\n",
              "      <td>0.000000</td>\n",
              "    </tr>\n",
              "    <tr>\n",
              "      <th>50%</th>\n",
              "      <td>18684.000000</td>\n",
              "      <td>10.528055</td>\n",
              "      <td>1.849952</td>\n",
              "      <td>0.000000</td>\n",
              "      <td>0.169732</td>\n",
              "      <td>0.854394</td>\n",
              "      <td>8.219005</td>\n",
              "      <td>10.169541</td>\n",
              "      <td>41.315469</td>\n",
              "      <td>443.497510</td>\n",
              "      <td>...</td>\n",
              "      <td>7.286338</td>\n",
              "      <td>8.852856</td>\n",
              "      <td>1.756277</td>\n",
              "      <td>1.622043e+01</td>\n",
              "      <td>0.000000</td>\n",
              "      <td>7.408943</td>\n",
              "      <td>42.991525</td>\n",
              "      <td>1.260498e+06</td>\n",
              "      <td>1.654057e+02</td>\n",
              "      <td>0.000000</td>\n",
              "    </tr>\n",
              "    <tr>\n",
              "      <th>75%</th>\n",
              "      <td>28019.500000</td>\n",
              "      <td>13.877891</td>\n",
              "      <td>1.849952</td>\n",
              "      <td>7.595073</td>\n",
              "      <td>0.186491</td>\n",
              "      <td>3.417574</td>\n",
              "      <td>12.453038</td>\n",
              "      <td>12.918066</td>\n",
              "      <td>110.473971</td>\n",
              "      <td>1081.561670</td>\n",
              "      <td>...</td>\n",
              "      <td>14.572675</td>\n",
              "      <td>16.230236</td>\n",
              "      <td>2.634416</td>\n",
              "      <td>1.622043e+01</td>\n",
              "      <td>4.767277</td>\n",
              "      <td>85.202840</td>\n",
              "      <td>500.059321</td>\n",
              "      <td>6.285744e+06</td>\n",
              "      <td>5.837850e+02</td>\n",
              "      <td>0.000000</td>\n",
              "    </tr>\n",
              "    <tr>\n",
              "      <th>max</th>\n",
              "      <td>37361.000000</td>\n",
              "      <td>14.675470</td>\n",
              "      <td>3.699904</td>\n",
              "      <td>1830.412494</td>\n",
              "      <td>0.503493</td>\n",
              "      <td>7.689542</td>\n",
              "      <td>112.824525</td>\n",
              "      <td>18.140263</td>\n",
              "      <td>359.264946</td>\n",
              "      <td>3241.823737</td>\n",
              "      <td>...</td>\n",
              "      <td>268.380106</td>\n",
              "      <td>674.292553</td>\n",
              "      <td>34.247406</td>\n",
              "      <td>2.286692e+06</td>\n",
              "      <td>395.684025</td>\n",
              "      <td>22375.006588</td>\n",
              "      <td>84369.737133</td>\n",
              "      <td>1.540909e+09</td>\n",
              "      <td>1.327082e+08</td>\n",
              "      <td>1.000000</td>\n",
              "    </tr>\n",
              "  </tbody>\n",
              "</table>\n",
              "<p>8 rows × 25 columns</p>\n",
              "</div>\n",
              "      <button class=\"colab-df-convert\" onclick=\"convertToInteractive('df-6403475e-5c50-4c0d-b285-af9dc23d6484')\"\n",
              "              title=\"Convert this dataframe to an interactive table.\"\n",
              "              style=\"display:none;\">\n",
              "        \n",
              "  <svg xmlns=\"http://www.w3.org/2000/svg\" height=\"24px\"viewBox=\"0 0 24 24\"\n",
              "       width=\"24px\">\n",
              "    <path d=\"M0 0h24v24H0V0z\" fill=\"none\"/>\n",
              "    <path d=\"M18.56 5.44l.94 2.06.94-2.06 2.06-.94-2.06-.94-.94-2.06-.94 2.06-2.06.94zm-11 1L8.5 8.5l.94-2.06 2.06-.94-2.06-.94L8.5 2.5l-.94 2.06-2.06.94zm10 10l.94 2.06.94-2.06 2.06-.94-2.06-.94-.94-2.06-.94 2.06-2.06.94z\"/><path d=\"M17.41 7.96l-1.37-1.37c-.4-.4-.92-.59-1.43-.59-.52 0-1.04.2-1.43.59L10.3 9.45l-7.72 7.72c-.78.78-.78 2.05 0 2.83L4 21.41c.39.39.9.59 1.41.59.51 0 1.02-.2 1.41-.59l7.78-7.78 2.81-2.81c.8-.78.8-2.07 0-2.86zM5.41 20L4 18.59l7.72-7.72 1.47 1.35L5.41 20z\"/>\n",
              "  </svg>\n",
              "      </button>\n",
              "      \n",
              "  <style>\n",
              "    .colab-df-container {\n",
              "      display:flex;\n",
              "      flex-wrap:wrap;\n",
              "      gap: 12px;\n",
              "    }\n",
              "\n",
              "    .colab-df-convert {\n",
              "      background-color: #E8F0FE;\n",
              "      border: none;\n",
              "      border-radius: 50%;\n",
              "      cursor: pointer;\n",
              "      display: none;\n",
              "      fill: #1967D2;\n",
              "      height: 32px;\n",
              "      padding: 0 0 0 0;\n",
              "      width: 32px;\n",
              "    }\n",
              "\n",
              "    .colab-df-convert:hover {\n",
              "      background-color: #E2EBFA;\n",
              "      box-shadow: 0px 1px 2px rgba(60, 64, 67, 0.3), 0px 1px 3px 1px rgba(60, 64, 67, 0.15);\n",
              "      fill: #174EA6;\n",
              "    }\n",
              "\n",
              "    [theme=dark] .colab-df-convert {\n",
              "      background-color: #3B4455;\n",
              "      fill: #D2E3FC;\n",
              "    }\n",
              "\n",
              "    [theme=dark] .colab-df-convert:hover {\n",
              "      background-color: #434B5C;\n",
              "      box-shadow: 0px 1px 3px 1px rgba(0, 0, 0, 0.15);\n",
              "      filter: drop-shadow(0px 1px 2px rgba(0, 0, 0, 0.3));\n",
              "      fill: #FFFFFF;\n",
              "    }\n",
              "  </style>\n",
              "\n",
              "      <script>\n",
              "        const buttonEl =\n",
              "          document.querySelector('#df-6403475e-5c50-4c0d-b285-af9dc23d6484 button.colab-df-convert');\n",
              "        buttonEl.style.display =\n",
              "          google.colab.kernel.accessAllowed ? 'block' : 'none';\n",
              "\n",
              "        async function convertToInteractive(key) {\n",
              "          const element = document.querySelector('#df-6403475e-5c50-4c0d-b285-af9dc23d6484');\n",
              "          const dataTable =\n",
              "            await google.colab.kernel.invokeFunction('convertToInteractive',\n",
              "                                                     [key], {});\n",
              "          if (!dataTable) return;\n",
              "\n",
              "          const docLinkHtml = 'Like what you see? Visit the ' +\n",
              "            '<a target=\"_blank\" href=https://colab.research.google.com/notebooks/data_table.ipynb>data table notebook</a>'\n",
              "            + ' to learn more about interactive tables.';\n",
              "          element.innerHTML = '';\n",
              "          dataTable['output_type'] = 'display_data';\n",
              "          await google.colab.output.renderOutput(dataTable, element);\n",
              "          const docLink = document.createElement('div');\n",
              "          docLink.innerHTML = docLinkHtml;\n",
              "          element.appendChild(docLink);\n",
              "        }\n",
              "      </script>\n",
              "    </div>\n",
              "  </div>\n",
              "  "
            ]
          },
          "metadata": {},
          "execution_count": 4
        }
      ]
    },
    {
      "cell_type": "code",
      "source": [
        "# оценка отсутствующих значений\n",
        "df.isnull().sum()"
      ],
      "metadata": {
        "colab": {
          "base_uri": "https://localhost:8080/"
        },
        "id": "haPBv_8b487I",
        "outputId": "60815d99-e972-4f84-b324-186386d1db53"
      },
      "execution_count": 5,
      "outputs": [
        {
          "output_type": "execute_result",
          "data": {
            "text/plain": [
              "index         0\n",
              "x_0           0\n",
              "x_1           0\n",
              "x_2           0\n",
              "x_3           0\n",
              "x_4           0\n",
              "x_5        7504\n",
              "x_6           0\n",
              "x_7           0\n",
              "x_8           0\n",
              "x_9           0\n",
              "x_10       5363\n",
              "x_11      22728\n",
              "x_12         32\n",
              "x_13        392\n",
              "x_14        392\n",
              "x_15        392\n",
              "x_16        401\n",
              "x_17        401\n",
              "x_18        401\n",
              "x_19        401\n",
              "x_20        401\n",
              "x_21       1526\n",
              "x_22       1526\n",
              "target        0\n",
              "dtype: int64"
            ]
          },
          "metadata": {},
          "execution_count": 5
        }
      ]
    },
    {
      "cell_type": "code",
      "source": [
        "df = df.drop(['x_11'], axis=1)"
      ],
      "metadata": {
        "id": "b-ABE_Vx5Ah5"
      },
      "execution_count": 6,
      "outputs": []
    },
    {
      "cell_type": "code",
      "source": [
        "df = df.fillna(0)\n",
        "df.isnull().sum()"
      ],
      "metadata": {
        "colab": {
          "base_uri": "https://localhost:8080/"
        },
        "id": "rZF7PSNP5Dcr",
        "outputId": "a770573e-b9e2-49ce-c557-41eedfd7bee6"
      },
      "execution_count": 7,
      "outputs": [
        {
          "output_type": "execute_result",
          "data": {
            "text/plain": [
              "index     0\n",
              "x_0       0\n",
              "x_1       0\n",
              "x_2       0\n",
              "x_3       0\n",
              "x_4       0\n",
              "x_5       0\n",
              "x_6       0\n",
              "x_7       0\n",
              "x_8       0\n",
              "x_9       0\n",
              "x_10      0\n",
              "x_12      0\n",
              "x_13      0\n",
              "x_14      0\n",
              "x_15      0\n",
              "x_16      0\n",
              "x_17      0\n",
              "x_18      0\n",
              "x_19      0\n",
              "x_20      0\n",
              "x_21      0\n",
              "x_22      0\n",
              "target    0\n",
              "dtype: int64"
            ]
          },
          "metadata": {},
          "execution_count": 7
        }
      ]
    },
    {
      "cell_type": "code",
      "source": [
        "df.nunique()"
      ],
      "metadata": {
        "colab": {
          "base_uri": "https://localhost:8080/"
        },
        "id": "RCsyIZPj5Gxw",
        "outputId": "0f446e18-bb19-45ba-bfea-75b1b1aed372"
      },
      "execution_count": 8,
      "outputs": [
        {
          "output_type": "execute_result",
          "data": {
            "text/plain": [
              "index     37163\n",
              "x_0         185\n",
              "x_1           8\n",
              "x_2         174\n",
              "x_3       37053\n",
              "x_4           9\n",
              "x_5         496\n",
              "x_6          48\n",
              "x_7         288\n",
              "x_8        2823\n",
              "x_9         942\n",
              "x_10      20553\n",
              "x_12      35888\n",
              "x_13        614\n",
              "x_14        131\n",
              "x_15        171\n",
              "x_16         30\n",
              "x_17         19\n",
              "x_18         92\n",
              "x_19       2101\n",
              "x_20       2987\n",
              "x_21      12765\n",
              "x_22        629\n",
              "target        2\n",
              "dtype: int64"
            ]
          },
          "metadata": {},
          "execution_count": 8
        }
      ]
    },
    {
      "cell_type": "code",
      "source": [
        "# оценка распределения значений целевой переменной\n",
        "df.target.value_counts(normalize=True)"
      ],
      "metadata": {
        "colab": {
          "base_uri": "https://localhost:8080/"
        },
        "id": "1Jtwuw1b-ClF",
        "outputId": "4cf03653-d3e1-48eb-cdda-d3fe4781f34b"
      },
      "execution_count": 9,
      "outputs": [
        {
          "output_type": "execute_result",
          "data": {
            "text/plain": [
              "0    0.981971\n",
              "1    0.018029\n",
              "Name: target, dtype: float64"
            ]
          },
          "metadata": {},
          "execution_count": 9
        }
      ]
    },
    {
      "cell_type": "code",
      "source": [
        "# Разбиваем на тестовую и обучающую выборки\n",
        "df_train_full, df_test = train_test_split(df, test_size=0.2, random_state=11)\n",
        "X_train, X_val = train_test_split(df_train_full, test_size=0.25, random_state=11)"
      ],
      "metadata": {
        "id": "czrIoRiF-FhY"
      },
      "execution_count": 10,
      "outputs": []
    },
    {
      "cell_type": "code",
      "source": [
        "y_train = X_train['target'].values\n",
        "y_val = X_val['target'].values"
      ],
      "metadata": {
        "id": "3T9k7_ld_kME"
      },
      "execution_count": 11,
      "outputs": []
    },
    {
      "cell_type": "code",
      "source": [
        "del X_train['target']\n",
        "del X_val['target']"
      ],
      "metadata": {
        "id": "220jOu-u_mF1"
      },
      "execution_count": 12,
      "outputs": []
    },
    {
      "cell_type": "code",
      "source": [
        "# Модель логистическая регрессия\n",
        "lr = LogisticRegression(solver='liblinear', random_state=1)\n",
        "lr.fit(X_train, y_train)\n",
        "\n",
        "y_pred_lr = lr.predict_proba(X_train)[:, 1]\n",
        "auc = roc_auc_score(y_train, y_pred_lr)\n",
        "print('train auc: %.3f' % auc)\n",
        "\n",
        "y_pred_lr = lr.predict_proba(X_val)[:, 1]\n",
        "auc = roc_auc_score(y_val, y_pred_lr)\n",
        "print('val auc: %.3f' % auc)"
      ],
      "metadata": {
        "colab": {
          "base_uri": "https://localhost:8080/"
        },
        "id": "Z3onWON1M5_4",
        "outputId": "0f45f730-7c07-4f41-a0e1-395d6ad3d0f8"
      },
      "execution_count": 25,
      "outputs": [
        {
          "output_type": "stream",
          "name": "stdout",
          "text": [
            "train auc: 0.610\n",
            "val auc: 0.621\n"
          ]
        }
      ]
    },
    {
      "cell_type": "code",
      "source": [
        "# Модель дерево решений\n",
        "dt = DecisionTreeClassifier(max_depth=5, min_samples_leaf = 200)\n",
        "dt.fit(X_train, y_train)\n",
        "\n",
        "y_pred_dt = dt.predict_proba(X_train)[:, 1]\n",
        "auc = roc_auc_score(y_train, y_pred_dt)\n",
        "print('train auc: %.3f' % auc)\n",
        "\n",
        "y_pred_dt = dt.predict_proba(X_val)[:, 1]\n",
        "auc = roc_auc_score(y_val, y_pred_dt)\n",
        "print('val auc: %.3f' % auc)"
      ],
      "metadata": {
        "colab": {
          "base_uri": "https://localhost:8080/"
        },
        "id": "KfFhUS9W_oBi",
        "outputId": "29f46e22-03ce-462d-ff16-1a95ad66e56e"
      },
      "execution_count": 27,
      "outputs": [
        {
          "output_type": "stream",
          "name": "stdout",
          "text": [
            "train auc: 0.863\n",
            "val auc: 0.836\n"
          ]
        }
      ]
    },
    {
      "cell_type": "code",
      "source": [
        "# Подбор параметров, наилучшая оценка модели\n",
        "params = {\n",
        "    \"max_depth\": [1, 2, 3, 4, 5, 6, 10, 15, 20],\n",
        "    \"min_samples_leaf\": [1, 5, 10, 15, 20, 50, 100, 200]\n",
        "}\n",
        "gs = GridSearchCV(dt, params, scoring='roc_auc')\n",
        "gs.fit(X_train, y_train)"
      ],
      "metadata": {
        "colab": {
          "base_uri": "https://localhost:8080/"
        },
        "id": "BKU2z53F_uLX",
        "outputId": "518407bc-ca65-4496-b6af-95430c398f3f"
      },
      "execution_count": 15,
      "outputs": [
        {
          "output_type": "execute_result",
          "data": {
            "text/plain": [
              "GridSearchCV(estimator=DecisionTreeClassifier(max_depth=2),\n",
              "             param_grid={'max_depth': [1, 2, 3, 4, 5, 6, 10, 15, 20],\n",
              "                         'min_samples_leaf': [1, 5, 10, 15, 20, 50, 100, 200]},\n",
              "             scoring='roc_auc')"
            ]
          },
          "metadata": {},
          "execution_count": 15
        }
      ]
    },
    {
      "cell_type": "code",
      "source": [
        "gs.best_params_"
      ],
      "metadata": {
        "colab": {
          "base_uri": "https://localhost:8080/"
        },
        "id": "hJgvQwwaBWc1",
        "outputId": "8f0b527e-439d-4fac-8042-314dd665e4e0"
      },
      "execution_count": 16,
      "outputs": [
        {
          "output_type": "execute_result",
          "data": {
            "text/plain": [
              "{'max_depth': 5, 'min_samples_leaf': 200}"
            ]
          },
          "metadata": {},
          "execution_count": 16
        }
      ]
    },
    {
      "cell_type": "code",
      "source": [
        "gs.best_score_"
      ],
      "metadata": {
        "colab": {
          "base_uri": "https://localhost:8080/"
        },
        "id": "tL_QbfCOBega",
        "outputId": "ba8d4c20-6db7-4b28-aaaa-82163ba2f446"
      },
      "execution_count": 17,
      "outputs": [
        {
          "output_type": "execute_result",
          "data": {
            "text/plain": [
              "0.8185523135901676"
            ]
          },
          "metadata": {},
          "execution_count": 17
        }
      ]
    },
    {
      "cell_type": "code",
      "source": [
        "# Модель случайный лес\n",
        "rf = RandomForestClassifier(max_depth = 5, min_samples_leaf = 5, n_estimators=180, random_state=3)\n",
        "rf.fit(X_train, y_train)\n",
        "\n",
        "y_pred_rf = dt.predict_proba(X_train)[:, 1]\n",
        "auc = roc_auc_score(y_train, y_pred_rf)\n",
        "print('train auc: %.3f' % auc)\n",
        "\n",
        "y_pred_rf = dt.predict_proba(X_val)[:, 1]\n",
        "auc = roc_auc_score(y_val, y_pred_rf)\n",
        "print('val auc: %.3f' % auc)"
      ],
      "metadata": {
        "colab": {
          "base_uri": "https://localhost:8080/"
        },
        "id": "dZ-lH42BB5Md",
        "outputId": "af72c13c-8425-4bef-8ecd-dc22814c7f21"
      },
      "execution_count": 28,
      "outputs": [
        {
          "output_type": "stream",
          "name": "stdout",
          "text": [
            "train auc: 0.863\n",
            "val auc: 0.836\n"
          ]
        }
      ]
    },
    {
      "cell_type": "code",
      "source": [
        "params = {\n",
        "    \"max_depth\": [5, 10, 20],\n",
        "    \"n_estimators\": [10, 30, 50, 100, 130, 150, 180, 200],\n",
        "    \"min_samples_leaf\": [3, 5, 10]\n",
        "}\n",
        "gs = GridSearchCV(rf, params, scoring='roc_auc')\n",
        "gs.fit(X_train, y_train)"
      ],
      "metadata": {
        "colab": {
          "base_uri": "https://localhost:8080/"
        },
        "id": "hCuHxDnCCTH0",
        "outputId": "98b8fc69-a40c-4cfa-f109-c7894f560be5"
      },
      "execution_count": 19,
      "outputs": [
        {
          "output_type": "execute_result",
          "data": {
            "text/plain": [
              "GridSearchCV(estimator=RandomForestClassifier(n_estimators=10, random_state=3),\n",
              "             param_grid={'max_depth': [5, 10, 20],\n",
              "                         'min_samples_leaf': [3, 5, 10],\n",
              "                         'n_estimators': [10, 30, 50, 100, 130, 150, 180, 200]},\n",
              "             scoring='roc_auc')"
            ]
          },
          "metadata": {},
          "execution_count": 19
        }
      ]
    },
    {
      "cell_type": "code",
      "source": [
        "gs.best_params_"
      ],
      "metadata": {
        "colab": {
          "base_uri": "https://localhost:8080/"
        },
        "id": "BFWTuhZXECnR",
        "outputId": "e32aac2b-74ec-491e-bc8d-ef94c97458a3"
      },
      "execution_count": 20,
      "outputs": [
        {
          "output_type": "execute_result",
          "data": {
            "text/plain": [
              "{'max_depth': 5, 'min_samples_leaf': 5, 'n_estimators': 180}"
            ]
          },
          "metadata": {},
          "execution_count": 20
        }
      ]
    },
    {
      "cell_type": "code",
      "source": [
        "gs.best_score_"
      ],
      "metadata": {
        "colab": {
          "base_uri": "https://localhost:8080/"
        },
        "id": "EgYyhLVcEMgC",
        "outputId": "35005458-49ce-427e-a72d-3142ec52d140"
      },
      "execution_count": 21,
      "outputs": [
        {
          "output_type": "execute_result",
          "data": {
            "text/plain": [
              "0.854407815522243"
            ]
          },
          "metadata": {},
          "execution_count": 21
        }
      ]
    },
    {
      "cell_type": "code",
      "source": [
        "# Модель градиентного бустинга XGBoost \n",
        "dtrain = xgb.DMatrix(X_train, label=y_train)\n",
        "dval = xgb.DMatrix(X_val, label=y_val)\n",
        "\n",
        "xgb_params = {\n",
        "    'eta': 0.1,\n",
        "    'max_depth': 3,\n",
        "    'min_child_weight': 1,\n",
        "\n",
        "    'objective': 'binary:logistic',\n",
        "    'eval_metric': 'auc',\n",
        "    'nthread': 8,\n",
        "    'seed': 1,\n",
        "}\n",
        "\n",
        "model = xgb.train(xgb_params, dtrain,\n",
        "                  num_boost_round=180)"
      ],
      "metadata": {
        "id": "QpxpNn4aNWGb"
      },
      "execution_count": 22,
      "outputs": []
    },
    {
      "cell_type": "code",
      "source": [
        "y_pred_xgb = model.predict(dtrain)\n",
        "auc = roc_auc_score(y_train, y_pred_xgb)\n",
        "print('train auc: %.3f' % auc)\n",
        "\n",
        "y_pred_xgb = model.predict(dval)\n",
        "auc = roc_auc_score(y_val, y_pred_xgb)\n",
        "print('val auc: %.3f' % auc)"
      ],
      "metadata": {
        "colab": {
          "base_uri": "https://localhost:8080/"
        },
        "id": "nNua2e38NhJe",
        "outputId": "3ce8fee2-aed6-435e-bb94-2c7bbda053dc"
      },
      "execution_count": 23,
      "outputs": [
        {
          "output_type": "stream",
          "name": "stdout",
          "text": [
            "train auc: 0.948\n",
            "val auc: 0.870\n"
          ]
        }
      ]
    },
    {
      "cell_type": "code",
      "source": [
        "# сравнение результатов моделей до подбора параметров\n",
        "\n",
        "print(roc_auc_score(y_val, y_pred_lr))\n",
        "print(roc_auc_score(y_val, y_pred_dt))\n",
        "print(roc_auc_score(y_val, y_pred_rf))\n",
        "print(roc_auc_score(y_val, y_pred_xgb))"
      ],
      "metadata": {
        "colab": {
          "base_uri": "https://localhost:8080/"
        },
        "id": "DIHRXv5_NlOl",
        "outputId": "76209c3f-5078-4e98-db17-68d150acde1d"
      },
      "execution_count": 26,
      "outputs": [
        {
          "output_type": "stream",
          "name": "stdout",
          "text": [
            "0.6205644580867792\n",
            "0.7949136914835262\n",
            "0.7949136914835262\n",
            "0.870349027205565\n"
          ]
        }
      ]
    },
    {
      "cell_type": "code",
      "source": [
        "# сравнение результатов моделей после подбора параметров\n",
        "\n",
        "print(roc_auc_score(y_val, y_pred_lr))\n",
        "print(roc_auc_score(y_val, y_pred_dt))\n",
        "print(roc_auc_score(y_val, y_pred_rf))\n",
        "print(roc_auc_score(y_val, y_pred_xgb))"
      ],
      "metadata": {
        "colab": {
          "base_uri": "https://localhost:8080/"
        },
        "id": "8dHcE4OzNtii",
        "outputId": "0e2b4541-5ea9-4870-ca5a-a6f6d75062ef"
      },
      "execution_count": 29,
      "outputs": [
        {
          "output_type": "stream",
          "name": "stdout",
          "text": [
            "0.6205644580867792\n",
            "0.8362968452749151\n",
            "0.8362968452749151\n",
            "0.870349027205565\n"
          ]
        }
      ]
    },
    {
      "cell_type": "code",
      "source": [
        "# финальный тест\n",
        "y_train_full = df_train_full['target'].values\n",
        "y_test = df_test['target'].values\n",
        "\n",
        "del df_train_full['target']\n",
        "del df_test['target']"
      ],
      "metadata": {
        "id": "jnaY5EaDBeoK"
      },
      "execution_count": 30,
      "outputs": []
    },
    {
      "cell_type": "code",
      "source": [
        "# финальная модель\n",
        "dtrain_full = xgb.DMatrix(df_train_full, label=y_train_full)\n",
        "dtest = xgb.DMatrix(df_test, label=y_test)\n",
        "\n",
        "xgb_params = {\n",
        "    'eta': 0.1,\n",
        "    'max_depth': 3,\n",
        "    'min_child_weight': 1,\n",
        "\n",
        "    'objective': 'binary:logistic',\n",
        "    'eval_metric': 'auc',\n",
        "    'nthread': 8,\n",
        "    'seed': 1,\n",
        "}\n",
        "\n",
        "xgb_final = xgb.train(xgb_params, dtrain_full, num_boost_round=160)"
      ],
      "metadata": {
        "id": "elaHof6qBmfG"
      },
      "execution_count": 31,
      "outputs": []
    },
    {
      "cell_type": "code",
      "source": [
        "# финальная оценка\n",
        "y_pred_final = model.predict(dtrain_full)\n",
        "auc = roc_auc_score(y_train_full, y_pred_final)\n",
        "print('train auc: %.3f' % auc)\n",
        "\n",
        "y_pred_final = model.predict(dtest)\n",
        "auc = roc_auc_score(y_test, y_pred_final)\n",
        "print('val auc: %.3f' % auc)"
      ],
      "metadata": {
        "colab": {
          "base_uri": "https://localhost:8080/"
        },
        "id": "e8bPGBHuBsYQ",
        "outputId": "e2e9edca-b2ef-430f-8aad-7ca72a16004e"
      },
      "execution_count": 32,
      "outputs": [
        {
          "output_type": "stream",
          "name": "stdout",
          "text": [
            "train auc: 0.928\n",
            "val auc: 0.871\n"
          ]
        }
      ]
    },
    {
      "cell_type": "code",
      "source": [],
      "metadata": {
        "id": "3ATZs0qVOiCe"
      },
      "execution_count": null,
      "outputs": []
    }
  ]
}